{
 "cells": [
  {
   "cell_type": "markdown",
   "metadata": {},
   "source": [
    "# Lab 1: Corrigiendo números telefónicos a 10 dígitos\n",
    "\n",
    "Escribe en un Jupyter Notebook, un programa en Python que lea un archivo CSV con una lista de números de teléfono, transforme cada número al nuevo formato, y guarde un archivo CSV con los números corregidos."
   ]
  },
  {
   "cell_type": "code",
   "execution_count": 311,
   "metadata": {},
   "outputs": [
    {
     "name": "stdout",
     "output_type": "stream",
     "text": [
      "['Phone 1 - Value', '8261060402', '7672772537', '84787809', '8110603146', '8115905880', '8115360295', '8118808783', '9331038624', '9331038624', '8110793871', '8111781386', '8110370528', '8116653773', '8115301845', '8110611897', '3038017830', '4000111610', '8116057868', '8110784143', '3200641352', '8110226219', '8181687170', '8114873513', '8577562561', '8577562561', '4683573660', '8002262663', '83589898', '17717003', '8117984678', '8183668329', '83420053', '8112128317', '18739696', '18739696', '8180205552', '8110809953', '8110508544', '8115296222', '17361625', '8124707556', '83006648', '81296522', '9333344854', '8115882659', '86754821', '8112496114', '7712225284', '8112846510', '8180145001', '6504850760', '9331039470', '8182542628', '8114652164', '8117635558', '8111775099', '8115114620', '83584516', '8111704190', '8115598282', '8112014056', '8110789206', '8113925883', '8119834993', '8115245413', '14783458', '9331277703', '83490880', '12344384', '8112116771', '9331475370', '8112903840', '9331337169', '8115319078', '13670439', '8110169450', '8261052150', '8119659391', '81039856', '83284046', '17370447']\n"
     ]
    }
   ],
   "source": [
    "import csv \n",
    "\n",
    "#MARK: Open File\n",
    "with open(\"directorio_ejemplo.csv\") as csv_file:\n",
    "    csv_reader = csv.reader(csv_file)\n",
    "    \n",
    "    listaOriginal = []\n",
    "    nuevaLista = []\n",
    "    \n",
    "    #MARK: Remove characters but digits and store it in listaOriginal\n",
    "    for row in csv_reader:\n",
    "        s = [''.join(i for i in x if i.isdigit()) for x in row]\n",
    "        listaOriginal.append(s) #listaOriginal is a list of lists\n",
    "        \n",
    "    #MARK: Take each list of list and save only the last ten digits in nuevaLista\n",
    "    for list in listaOriginal:\n",
    "        for digits in list:\n",
    "             if len(digits)>=8:\n",
    "                s =(digits[-10:])\n",
    "                nuevaLista.append(s)\n",
    "    nuevaLista.insert(0, \"Phone 1 - Value\")    \n",
    "\n",
    "print(nuevaLista)\n",
    "\n",
    "#MARK: Open new file and save nuevaList in one column\n",
    "with open('directorio_actualizado.csv', 'w', newline='') as f:\n",
    "    i = 0\n",
    "    for item in nuevaLista:\n",
    "        writer_csv = csv.writer(f)\n",
    "        writer_csv.writerow([nuevaLista[i]],)\n",
    "        i+=1\n",
    "        \n",
    "csv_file.close()\n",
    "f.close()"
   ]
  }
 ],
 "metadata": {
  "kernelspec": {
   "display_name": "Python 3",
   "language": "python",
   "name": "python3"
  },
  "language_info": {
   "codemirror_mode": {
    "name": "ipython",
    "version": 3
   },
   "file_extension": ".py",
   "mimetype": "text/x-python",
   "name": "python",
   "nbconvert_exporter": "python",
   "pygments_lexer": "ipython3",
   "version": "3.7.3"
  }
 },
 "nbformat": 4,
 "nbformat_minor": 2
}
