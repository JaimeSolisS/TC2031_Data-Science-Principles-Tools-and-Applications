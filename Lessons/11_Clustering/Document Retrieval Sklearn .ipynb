{
 "cells": [
  {
   "cell_type": "markdown",
   "metadata": {},
   "source": [
    "# Document retrieval project in Sklearn"
   ]
  },
  {
   "cell_type": "markdown",
   "metadata": {},
   "source": [
    "# Fire up packages"
   ]
  },
  {
   "cell_type": "code",
   "execution_count": 30,
   "metadata": {},
   "outputs": [],
   "source": [
    "import sklearn\n",
    "import matplotlib.pyplot as plt\n",
    "%matplotlib inline\n",
    "import pandas as pd\n",
    "from sklearn.cross_validation import train_test_split\n",
    "import numpy\n",
    "from sklearn.feature_extraction.text import CountVectorizer\n"
   ]
  },
  {
   "cell_type": "markdown",
   "metadata": {},
   "source": [
    "# Load data"
   ]
  },
  {
   "cell_type": "code",
   "execution_count": 31,
   "metadata": {},
   "outputs": [],
   "source": [
    "people = pd.read_csv('people_wiki.csv')"
   ]
  },
  {
   "cell_type": "code",
   "execution_count": 32,
   "metadata": {},
   "outputs": [
    {
     "data": {
      "text/html": [
       "<div>\n",
       "<style scoped>\n",
       "    .dataframe tbody tr th:only-of-type {\n",
       "        vertical-align: middle;\n",
       "    }\n",
       "\n",
       "    .dataframe tbody tr th {\n",
       "        vertical-align: top;\n",
       "    }\n",
       "\n",
       "    .dataframe thead th {\n",
       "        text-align: right;\n",
       "    }\n",
       "</style>\n",
       "<table border=\"1\" class=\"dataframe\">\n",
       "  <thead>\n",
       "    <tr style=\"text-align: right;\">\n",
       "      <th></th>\n",
       "      <th>URI</th>\n",
       "      <th>name</th>\n",
       "      <th>text</th>\n",
       "    </tr>\n",
       "  </thead>\n",
       "  <tbody>\n",
       "    <tr>\n",
       "      <th>0</th>\n",
       "      <td>&lt;http://dbpedia.org/resource/Digby_Morrell&gt;</td>\n",
       "      <td>Digby Morrell</td>\n",
       "      <td>digby morrell born 10 october 1979 is a former...</td>\n",
       "    </tr>\n",
       "    <tr>\n",
       "      <th>1</th>\n",
       "      <td>&lt;http://dbpedia.org/resource/Alfred_J._Lewy&gt;</td>\n",
       "      <td>Alfred J. Lewy</td>\n",
       "      <td>alfred j lewy aka sandy lewy graduated from un...</td>\n",
       "    </tr>\n",
       "    <tr>\n",
       "      <th>2</th>\n",
       "      <td>&lt;http://dbpedia.org/resource/Harpdog_Brown&gt;</td>\n",
       "      <td>Harpdog Brown</td>\n",
       "      <td>harpdog brown is a singer and harmonica player...</td>\n",
       "    </tr>\n",
       "    <tr>\n",
       "      <th>3</th>\n",
       "      <td>&lt;http://dbpedia.org/resource/Franz_Rottensteiner&gt;</td>\n",
       "      <td>Franz Rottensteiner</td>\n",
       "      <td>franz rottensteiner born in waidmannsfeld lowe...</td>\n",
       "    </tr>\n",
       "    <tr>\n",
       "      <th>4</th>\n",
       "      <td>&lt;http://dbpedia.org/resource/G-Enka&gt;</td>\n",
       "      <td>G-Enka</td>\n",
       "      <td>henry krvits born 30 december 1974 in tallinn ...</td>\n",
       "    </tr>\n",
       "    <tr>\n",
       "      <th>5</th>\n",
       "      <td>&lt;http://dbpedia.org/resource/Sam_Henderson&gt;</td>\n",
       "      <td>Sam Henderson</td>\n",
       "      <td>sam henderson born october 18 1969 is an ameri...</td>\n",
       "    </tr>\n",
       "    <tr>\n",
       "      <th>6</th>\n",
       "      <td>&lt;http://dbpedia.org/resource/Aaron_LaCrate&gt;</td>\n",
       "      <td>Aaron LaCrate</td>\n",
       "      <td>aaron lacrate is an american music producer re...</td>\n",
       "    </tr>\n",
       "    <tr>\n",
       "      <th>7</th>\n",
       "      <td>&lt;http://dbpedia.org/resource/Trevor_Ferguson&gt;</td>\n",
       "      <td>Trevor Ferguson</td>\n",
       "      <td>trevor ferguson aka john farrow born 11 novemb...</td>\n",
       "    </tr>\n",
       "    <tr>\n",
       "      <th>8</th>\n",
       "      <td>&lt;http://dbpedia.org/resource/Grant_Nelson&gt;</td>\n",
       "      <td>Grant Nelson</td>\n",
       "      <td>grant nelson born 27 april 1971 in london also...</td>\n",
       "    </tr>\n",
       "    <tr>\n",
       "      <th>9</th>\n",
       "      <td>&lt;http://dbpedia.org/resource/Cathy_Caruth&gt;</td>\n",
       "      <td>Cathy Caruth</td>\n",
       "      <td>cathy caruth born 1955 is frank h t rhodes pro...</td>\n",
       "    </tr>\n",
       "  </tbody>\n",
       "</table>\n",
       "</div>"
      ],
      "text/plain": [
       "                                                 URI                 name  \\\n",
       "0        <http://dbpedia.org/resource/Digby_Morrell>        Digby Morrell   \n",
       "1       <http://dbpedia.org/resource/Alfred_J._Lewy>       Alfred J. Lewy   \n",
       "2        <http://dbpedia.org/resource/Harpdog_Brown>        Harpdog Brown   \n",
       "3  <http://dbpedia.org/resource/Franz_Rottensteiner>  Franz Rottensteiner   \n",
       "4               <http://dbpedia.org/resource/G-Enka>               G-Enka   \n",
       "5        <http://dbpedia.org/resource/Sam_Henderson>        Sam Henderson   \n",
       "6        <http://dbpedia.org/resource/Aaron_LaCrate>        Aaron LaCrate   \n",
       "7      <http://dbpedia.org/resource/Trevor_Ferguson>      Trevor Ferguson   \n",
       "8         <http://dbpedia.org/resource/Grant_Nelson>         Grant Nelson   \n",
       "9         <http://dbpedia.org/resource/Cathy_Caruth>         Cathy Caruth   \n",
       "\n",
       "                                                text  \n",
       "0  digby morrell born 10 october 1979 is a former...  \n",
       "1  alfred j lewy aka sandy lewy graduated from un...  \n",
       "2  harpdog brown is a singer and harmonica player...  \n",
       "3  franz rottensteiner born in waidmannsfeld lowe...  \n",
       "4  henry krvits born 30 december 1974 in tallinn ...  \n",
       "5  sam henderson born october 18 1969 is an ameri...  \n",
       "6  aaron lacrate is an american music producer re...  \n",
       "7  trevor ferguson aka john farrow born 11 novemb...  \n",
       "8  grant nelson born 27 april 1971 in london also...  \n",
       "9  cathy caruth born 1955 is frank h t rhodes pro...  "
      ]
     },
     "execution_count": 32,
     "metadata": {},
     "output_type": "execute_result"
    }
   ],
   "source": [
    "people.head(10)"
   ]
  },
  {
   "cell_type": "code",
   "execution_count": 33,
   "metadata": {},
   "outputs": [],
   "source": [
    "def print_word_count_table(text):\n",
    "    vectorizer = CountVectorizer()\n",
    "    # call `fit` to build the vocabulary\n",
    "    vectorizer.fit(text)\n",
    "\n",
    "    # call `transform` to convert text to a bag of words\n",
    "    x = vectorizer.transform(text)\n",
    "\n",
    "    # CountVectorizer uses a sparse array to save memory, but it's easier in this assignment to \n",
    "    # convert back to a \"normal\" numpy array\n",
    "    x = x.toarray()\n",
    "\n",
    "    word_count = { word[0]: word[1] for word in zip(vectorizer.get_feature_names(), x[0]) }\n",
    "    word_count_table = pd.DataFrame.from_dict(word_count, orient='index').reset_index()\n",
    "    word_count_table.columns = ['word', 'count']\n",
    "    print(word_count_table.sort_values('count', ascending=False).head(10))\n",
    "\n",
    "def print_tfidf_table(tfidfvectorizer, Xtfidf, index):\n",
    "    feature_names = tfidfvectorizer.get_feature_names()\n",
    "    feature_index = Xtfidf[index,:].nonzero()[1]\n",
    "    tfidf_scores = zip(feature_index, [Xtfidf[index, x] for x in feature_index])\n",
    "    dict_tfidf = { w: s for w, s in [(feature_names[i], s) for (i, s) in tfidf_scores] }\n",
    "    tfidf_table = pd.DataFrame.from_dict(dict_tfidf, orient='index').reset_index()\n",
    "    tfidf_table.columns = ['word', 'tfidf']\n",
    "    print(tfidf_table.sort_values('tfidf', ascending=False).head(10))\n",
    "    \n",
    "def person(name):\n",
    "    return int(people[people['name']==name].index.tolist()[0])"
   ]
  },
  {
   "cell_type": "code",
   "execution_count": 34,
   "metadata": {},
   "outputs": [
    {
     "name": "stdout",
     "output_type": "stream",
     "text": [
      "      word  count\n",
      "242    the     40\n",
      "115     in     30\n",
      "28     and     21\n",
      "162     of     18\n",
      "245     to     14\n",
      "106    his     11\n",
      "160  obama      9\n",
      "18     act      8\n",
      "104     he      7\n",
      "30      as      6\n"
     ]
    }
   ],
   "source": [
    "# Obama text word count\n",
    "print_word_count_table(people[people['name']=='Barack Obama']['text'])"
   ]
  },
  {
   "cell_type": "markdown",
   "metadata": {},
   "source": [
    "# NLP for clustering: create tfidf column in data frame"
   ]
  },
  {
   "cell_type": "markdown",
   "metadata": {},
   "source": [
    "** The next step will be creating the feature matrix by using tfidf techniques**"
   ]
  },
  {
   "cell_type": "code",
   "execution_count": 35,
   "metadata": {},
   "outputs": [],
   "source": [
    "from sklearn.feature_extraction.text import TfidfVectorizer\n",
    "tfidf=TfidfVectorizer(stop_words='english', max_features=1000000)\n",
    "features=tfidf.fit_transform(people['text'])"
   ]
  },
  {
   "cell_type": "markdown",
   "metadata": {},
   "source": [
    "** Then the feature for clustering is created. We can use it to fit in machine learning model**"
   ]
  },
  {
   "cell_type": "markdown",
   "metadata": {},
   "source": [
    "# Implementing clustering techniques"
   ]
  },
  {
   "cell_type": "markdown",
   "metadata": {},
   "source": [
    "## Cosine Distance Examining"
   ]
  },
  {
   "cell_type": "code",
   "execution_count": 36,
   "metadata": {},
   "outputs": [],
   "source": [
    "from sklearn.metrics.pairwise import cosine_distances as CD"
   ]
  },
  {
   "cell_type": "markdown",
   "metadata": {},
   "source": [
    "** Let us check the Cosine distance of some pairs of people**"
   ]
  },
  {
   "cell_type": "code",
   "execution_count": 37,
   "metadata": {},
   "outputs": [],
   "source": [
    "obama=people[people['name']=='Barack Obama'].index.tolist()[0]\n",
    "beckham=people[people['name']=='David Beckham'].index.tolist()[0]\n",
    "clinton=people[people['name']=='Bill Clinton'].index.tolist()[0]\n",
    "swift=people[people['name']=='Taylor Swift'].index.tolist()[0]"
   ]
  },
  {
   "cell_type": "code",
   "execution_count": 38,
   "metadata": {},
   "outputs": [
    {
     "name": "stdout",
     "output_type": "stream",
     "text": [
      "            word     tfidf\n",
      "131        obama  0.413495\n",
      "137          act  0.282170\n",
      "115         iraq  0.171970\n",
      "97           law  0.163903\n",
      "145      control  0.149369\n",
      "167      ordered  0.138633\n",
      "98      military  0.135368\n",
      "67    democratic  0.129792\n",
      "180  involvement  0.124821\n",
      "164     response  0.124821\n"
     ]
    }
   ],
   "source": [
    "# Obama tfidf\n",
    "print_tfidf_table(tfidf, features, obama)"
   ]
  },
  {
   "cell_type": "code",
   "execution_count": 39,
   "metadata": {},
   "outputs": [
    {
     "name": "stdout",
     "output_type": "stream",
     "text": [
      "Cosine distance between Obama and Beckham is  [[0.97443419]]\n",
      "Cosine distance between Obama and Clinton is  [[0.81103282]]\n",
      "Cosine distance between Obama and Swift is  [[0.96917793]]\n"
     ]
    }
   ],
   "source": [
    "print ('Cosine distance between Obama and Beckham is '+' '+ str(CD(features[obama],features[beckham])))\n",
    "print ('Cosine distance between Obama and Clinton is '+' '+ str(CD(features[obama],features[clinton])))\n",
    "print ('Cosine distance between Obama and Swift is '+' '+ str(CD(features[obama],features[swift])))"
   ]
  },
  {
   "cell_type": "markdown",
   "metadata": {},
   "source": [
    "** Smaller cosine distance represents more obvious similarity. We can see from the above example that the features really make sense!**"
   ]
  },
  {
   "cell_type": "markdown",
   "metadata": {},
   "source": [
    "## Searching for nearest neighnours"
   ]
  },
  {
   "cell_type": "markdown",
   "metadata": {},
   "source": [
    "### K-Nearest-Neighbours"
   ]
  },
  {
   "cell_type": "code",
   "execution_count": 40,
   "metadata": {},
   "outputs": [],
   "source": [
    "from sklearn.neighbors import NearestNeighbors\n",
    "knn=NearestNeighbors(n_neighbors=20,algorithm='brute',metric='cosine')"
   ]
  },
  {
   "cell_type": "code",
   "execution_count": 41,
   "metadata": {},
   "outputs": [],
   "source": [
    "knn_fit=knn.fit(features)"
   ]
  },
  {
   "cell_type": "code",
   "execution_count": 42,
   "metadata": {},
   "outputs": [],
   "source": [
    "query_name=int(person('Barack Obama'))"
   ]
  },
  {
   "cell_type": "code",
   "execution_count": 43,
   "metadata": {},
   "outputs": [],
   "source": [
    "Obama_Neighbours=knn_fit.kneighbors(features[query_name])"
   ]
  },
  {
   "cell_type": "code",
   "execution_count": 44,
   "metadata": {},
   "outputs": [
    {
     "data": {
      "text/html": [
       "<div>\n",
       "<style scoped>\n",
       "    .dataframe tbody tr th:only-of-type {\n",
       "        vertical-align: middle;\n",
       "    }\n",
       "\n",
       "    .dataframe tbody tr th {\n",
       "        vertical-align: top;\n",
       "    }\n",
       "\n",
       "    .dataframe thead th {\n",
       "        text-align: right;\n",
       "    }\n",
       "</style>\n",
       "<table border=\"1\" class=\"dataframe\">\n",
       "  <thead>\n",
       "    <tr style=\"text-align: right;\">\n",
       "      <th></th>\n",
       "      <th>Index</th>\n",
       "      <th>Name</th>\n",
       "      <th>Cosine Similariry</th>\n",
       "      <th>Cosine Distance</th>\n",
       "    </tr>\n",
       "  </thead>\n",
       "  <tbody>\n",
       "    <tr>\n",
       "      <th>0</th>\n",
       "      <td>35817</td>\n",
       "      <td>Barack Obama</td>\n",
       "      <td>0.000000</td>\n",
       "      <td>[[0.0]]</td>\n",
       "    </tr>\n",
       "    <tr>\n",
       "      <th>1</th>\n",
       "      <td>24478</td>\n",
       "      <td>Joe Biden</td>\n",
       "      <td>0.678781</td>\n",
       "      <td>[[0.6787810413312336]]</td>\n",
       "    </tr>\n",
       "    <tr>\n",
       "      <th>2</th>\n",
       "      <td>38376</td>\n",
       "      <td>Samantha Power</td>\n",
       "      <td>0.728871</td>\n",
       "      <td>[[0.7288705514270959]]</td>\n",
       "    </tr>\n",
       "    <tr>\n",
       "      <th>3</th>\n",
       "      <td>57108</td>\n",
       "      <td>Hillary Rodham Clinton</td>\n",
       "      <td>0.743761</td>\n",
       "      <td>[[0.743760600963479]]</td>\n",
       "    </tr>\n",
       "    <tr>\n",
       "      <th>4</th>\n",
       "      <td>38714</td>\n",
       "      <td>Eric Stern (politician)</td>\n",
       "      <td>0.747264</td>\n",
       "      <td>[[0.7472641367735133]]</td>\n",
       "    </tr>\n",
       "    <tr>\n",
       "      <th>5</th>\n",
       "      <td>46140</td>\n",
       "      <td>Robert Gibbs</td>\n",
       "      <td>0.764069</td>\n",
       "      <td>[[0.7640685263313408]]</td>\n",
       "    </tr>\n",
       "    <tr>\n",
       "      <th>6</th>\n",
       "      <td>18827</td>\n",
       "      <td>Henry Waxman</td>\n",
       "      <td>0.772595</td>\n",
       "      <td>[[0.7725948408589108]]</td>\n",
       "    </tr>\n",
       "    <tr>\n",
       "      <th>7</th>\n",
       "      <td>44681</td>\n",
       "      <td>Jesse Lee (politician)</td>\n",
       "      <td>0.774599</td>\n",
       "      <td>[[0.7745985570739599]]</td>\n",
       "    </tr>\n",
       "    <tr>\n",
       "      <th>8</th>\n",
       "      <td>6796</td>\n",
       "      <td>Eric Holder</td>\n",
       "      <td>0.779121</td>\n",
       "      <td>[[0.7791208721788061]]</td>\n",
       "    </tr>\n",
       "    <tr>\n",
       "      <th>9</th>\n",
       "      <td>2412</td>\n",
       "      <td>Joe the Plumber</td>\n",
       "      <td>0.783260</td>\n",
       "      <td>[[0.7832599382080224]]</td>\n",
       "    </tr>\n",
       "    <tr>\n",
       "      <th>10</th>\n",
       "      <td>48693</td>\n",
       "      <td>Artur Davis</td>\n",
       "      <td>0.784545</td>\n",
       "      <td>[[0.7845450084448664]]</td>\n",
       "    </tr>\n",
       "    <tr>\n",
       "      <th>11</th>\n",
       "      <td>7914</td>\n",
       "      <td>Phil Schiliro</td>\n",
       "      <td>0.787177</td>\n",
       "      <td>[[0.787177205936613]]</td>\n",
       "    </tr>\n",
       "    <tr>\n",
       "      <th>12</th>\n",
       "      <td>46811</td>\n",
       "      <td>Jeff Sessions</td>\n",
       "      <td>0.790130</td>\n",
       "      <td>[[0.7901302784133721]]</td>\n",
       "    </tr>\n",
       "    <tr>\n",
       "      <th>13</th>\n",
       "      <td>28447</td>\n",
       "      <td>George W. Bush</td>\n",
       "      <td>0.799607</td>\n",
       "      <td>[[0.7996067407997853]]</td>\n",
       "    </tr>\n",
       "    <tr>\n",
       "      <th>14</th>\n",
       "      <td>39357</td>\n",
       "      <td>John McCain</td>\n",
       "      <td>0.800857</td>\n",
       "      <td>[[0.8008566864505022]]</td>\n",
       "    </tr>\n",
       "    <tr>\n",
       "      <th>15</th>\n",
       "      <td>4032</td>\n",
       "      <td>Kenneth D. Thompson</td>\n",
       "      <td>0.801722</td>\n",
       "      <td>[[0.8017223339274582]]</td>\n",
       "    </tr>\n",
       "    <tr>\n",
       "      <th>16</th>\n",
       "      <td>23737</td>\n",
       "      <td>John D. McCormick</td>\n",
       "      <td>0.804529</td>\n",
       "      <td>[[0.8045287412604174]]</td>\n",
       "    </tr>\n",
       "    <tr>\n",
       "      <th>17</th>\n",
       "      <td>24848</td>\n",
       "      <td>John C. Eastman</td>\n",
       "      <td>0.808264</td>\n",
       "      <td>[[0.8082644722037876]]</td>\n",
       "    </tr>\n",
       "    <tr>\n",
       "      <th>18</th>\n",
       "      <td>11394</td>\n",
       "      <td>John G. Levi</td>\n",
       "      <td>0.810387</td>\n",
       "      <td>[[0.8103868172170995]]</td>\n",
       "    </tr>\n",
       "    <tr>\n",
       "      <th>19</th>\n",
       "      <td>36452</td>\n",
       "      <td>Bill Clinton</td>\n",
       "      <td>0.811033</td>\n",
       "      <td>[[0.8110328230075754]]</td>\n",
       "    </tr>\n",
       "  </tbody>\n",
       "</table>\n",
       "</div>"
      ],
      "text/plain": [
       "    Index                     Name  Cosine Similariry         Cosine Distance\n",
       "0   35817             Barack Obama           0.000000                 [[0.0]]\n",
       "1   24478                Joe Biden           0.678781  [[0.6787810413312336]]\n",
       "2   38376           Samantha Power           0.728871  [[0.7288705514270959]]\n",
       "3   57108   Hillary Rodham Clinton           0.743761   [[0.743760600963479]]\n",
       "4   38714  Eric Stern (politician)           0.747264  [[0.7472641367735133]]\n",
       "5   46140             Robert Gibbs           0.764069  [[0.7640685263313408]]\n",
       "6   18827             Henry Waxman           0.772595  [[0.7725948408589108]]\n",
       "7   44681   Jesse Lee (politician)           0.774599  [[0.7745985570739599]]\n",
       "8    6796              Eric Holder           0.779121  [[0.7791208721788061]]\n",
       "9    2412          Joe the Plumber           0.783260  [[0.7832599382080224]]\n",
       "10  48693              Artur Davis           0.784545  [[0.7845450084448664]]\n",
       "11   7914            Phil Schiliro           0.787177   [[0.787177205936613]]\n",
       "12  46811            Jeff Sessions           0.790130  [[0.7901302784133721]]\n",
       "13  28447           George W. Bush           0.799607  [[0.7996067407997853]]\n",
       "14  39357              John McCain           0.800857  [[0.8008566864505022]]\n",
       "15   4032      Kenneth D. Thompson           0.801722  [[0.8017223339274582]]\n",
       "16  23737        John D. McCormick           0.804529  [[0.8045287412604174]]\n",
       "17  24848          John C. Eastman           0.808264  [[0.8082644722037876]]\n",
       "18  11394             John G. Levi           0.810387  [[0.8103868172170995]]\n",
       "19  36452             Bill Clinton           0.811033  [[0.8110328230075754]]"
      ]
     },
     "execution_count": 44,
     "metadata": {},
     "output_type": "execute_result"
    }
   ],
   "source": [
    "Result= pd.DataFrame({'Index':Obama_Neighbours[1].tolist()[0]})\n",
    "Result['Name']=Result['Index'].apply(lambda x: people['name'][x])\n",
    "Result['Cosine Similariry']=Obama_Neighbours[0].tolist()[0]\n",
    "Result['Cosine Distance']=Result['Index'].apply(lambda x: CD(features[Result['Index'][0]],features[x]))\n",
    "Result"
   ]
  },
  {
   "cell_type": "markdown",
   "metadata": {},
   "source": [
    "**The result of clustering analysis should be judged by people's experience. In this case, we can see that the result does make sense**"
   ]
  },
  {
   "cell_type": "markdown",
   "metadata": {},
   "source": [
    "**Since we are making a text retrieval system, I will combine the above steps together in a function so the search for similar articles will be more convenient.**"
   ]
  },
  {
   "cell_type": "code",
   "execution_count": 45,
   "metadata": {},
   "outputs": [],
   "source": [
    "def knn_query(name,neighbours=20):\n",
    "    name_index=int(people[people['name']==name].index.tolist()[0])\n",
    "    knn=NearestNeighbors(n_neighbors=neighbours,algorithm='brute',metric='cosine')\n",
    "    knn_fit=knn.fit(features)\n",
    "    knn_result=knn_fit.kneighbors(features[name_index])\n",
    "    Result= pd.DataFrame({'Index':knn_result[1].tolist()[0]})\n",
    "    Result['Name']=Result['Index'].apply(lambda x: people['name'][x])\n",
    "    Result['Cosine Similariry']=knn_result[0].tolist()[0]\n",
    "    Result['Cosine Distance']=Result['Index'].apply(lambda x: CD(features[Result['Index'][0]],features[x]))\n",
    "    return Result"
   ]
  },
  {
   "cell_type": "code",
   "execution_count": 46,
   "metadata": {},
   "outputs": [
    {
     "data": {
      "text/html": [
       "<div>\n",
       "<style scoped>\n",
       "    .dataframe tbody tr th:only-of-type {\n",
       "        vertical-align: middle;\n",
       "    }\n",
       "\n",
       "    .dataframe tbody tr th {\n",
       "        vertical-align: top;\n",
       "    }\n",
       "\n",
       "    .dataframe thead th {\n",
       "        text-align: right;\n",
       "    }\n",
       "</style>\n",
       "<table border=\"1\" class=\"dataframe\">\n",
       "  <thead>\n",
       "    <tr style=\"text-align: right;\">\n",
       "      <th></th>\n",
       "      <th>Index</th>\n",
       "      <th>Name</th>\n",
       "      <th>Cosine Similariry</th>\n",
       "      <th>Cosine Distance</th>\n",
       "    </tr>\n",
       "  </thead>\n",
       "  <tbody>\n",
       "    <tr>\n",
       "      <th>0</th>\n",
       "      <td>23386</td>\n",
       "      <td>David Beckham</td>\n",
       "      <td>0.000000</td>\n",
       "      <td>[[0.0]]</td>\n",
       "    </tr>\n",
       "    <tr>\n",
       "      <th>1</th>\n",
       "      <td>50411</td>\n",
       "      <td>Victoria Beckham</td>\n",
       "      <td>0.575420</td>\n",
       "      <td>[[0.5754200370497651]]</td>\n",
       "    </tr>\n",
       "    <tr>\n",
       "      <th>2</th>\n",
       "      <td>24913</td>\n",
       "      <td>Bobby Charlton</td>\n",
       "      <td>0.735121</td>\n",
       "      <td>[[0.7351208613168277]]</td>\n",
       "    </tr>\n",
       "    <tr>\n",
       "      <th>3</th>\n",
       "      <td>53393</td>\n",
       "      <td>Steven Gerrard</td>\n",
       "      <td>0.739810</td>\n",
       "      <td>[[0.7398098085569265]]</td>\n",
       "    </tr>\n",
       "    <tr>\n",
       "      <th>4</th>\n",
       "      <td>43981</td>\n",
       "      <td>Fernando Torres</td>\n",
       "      <td>0.755536</td>\n",
       "      <td>[[0.7555361125003]]</td>\n",
       "    </tr>\n",
       "    <tr>\n",
       "      <th>5</th>\n",
       "      <td>26762</td>\n",
       "      <td>Wayne Rooney</td>\n",
       "      <td>0.758539</td>\n",
       "      <td>[[0.758538879071492]]</td>\n",
       "    </tr>\n",
       "    <tr>\n",
       "      <th>6</th>\n",
       "      <td>43098</td>\n",
       "      <td>Kim Milton Nielsen</td>\n",
       "      <td>0.770575</td>\n",
       "      <td>[[0.7705754199670645]]</td>\n",
       "    </tr>\n",
       "    <tr>\n",
       "      <th>7</th>\n",
       "      <td>38672</td>\n",
       "      <td>Shay Given</td>\n",
       "      <td>0.772076</td>\n",
       "      <td>[[0.7720759038420171]]</td>\n",
       "    </tr>\n",
       "    <tr>\n",
       "      <th>8</th>\n",
       "      <td>24258</td>\n",
       "      <td>Sol Campbell</td>\n",
       "      <td>0.776365</td>\n",
       "      <td>[[0.7763649806702079]]</td>\n",
       "    </tr>\n",
       "    <tr>\n",
       "      <th>9</th>\n",
       "      <td>3031</td>\n",
       "      <td>Michael Owen</td>\n",
       "      <td>0.778567</td>\n",
       "      <td>[[0.7785674587794118]]</td>\n",
       "    </tr>\n",
       "  </tbody>\n",
       "</table>\n",
       "</div>"
      ],
      "text/plain": [
       "   Index                Name  Cosine Similariry         Cosine Distance\n",
       "0  23386       David Beckham           0.000000                 [[0.0]]\n",
       "1  50411    Victoria Beckham           0.575420  [[0.5754200370497651]]\n",
       "2  24913      Bobby Charlton           0.735121  [[0.7351208613168277]]\n",
       "3  53393      Steven Gerrard           0.739810  [[0.7398098085569265]]\n",
       "4  43981     Fernando Torres           0.755536     [[0.7555361125003]]\n",
       "5  26762        Wayne Rooney           0.758539   [[0.758538879071492]]\n",
       "6  43098  Kim Milton Nielsen           0.770575  [[0.7705754199670645]]\n",
       "7  38672          Shay Given           0.772076  [[0.7720759038420171]]\n",
       "8  24258        Sol Campbell           0.776365  [[0.7763649806702079]]\n",
       "9   3031        Michael Owen           0.778567  [[0.7785674587794118]]"
      ]
     },
     "execution_count": 46,
     "metadata": {},
     "output_type": "execute_result"
    }
   ],
   "source": [
    "knn_query('David Beckham',10)"
   ]
  },
  {
   "cell_type": "markdown",
   "metadata": {},
   "source": [
    "**The KNN model really makes sense. Next, I will try other two models and compare the result of clustering analysis**"
   ]
  },
  {
   "cell_type": "markdown",
   "metadata": {},
   "source": [
    "### Try more cases in order to justify the reasonability of the method"
   ]
  },
  {
   "cell_type": "code",
   "execution_count": 47,
   "metadata": {},
   "outputs": [
    {
     "data": {
      "text/html": [
       "<div>\n",
       "<style scoped>\n",
       "    .dataframe tbody tr th:only-of-type {\n",
       "        vertical-align: middle;\n",
       "    }\n",
       "\n",
       "    .dataframe tbody tr th {\n",
       "        vertical-align: top;\n",
       "    }\n",
       "\n",
       "    .dataframe thead th {\n",
       "        text-align: right;\n",
       "    }\n",
       "</style>\n",
       "<table border=\"1\" class=\"dataframe\">\n",
       "  <thead>\n",
       "    <tr style=\"text-align: right;\">\n",
       "      <th></th>\n",
       "      <th>Index</th>\n",
       "      <th>Name</th>\n",
       "      <th>Cosine Similariry</th>\n",
       "      <th>Cosine Distance</th>\n",
       "    </tr>\n",
       "  </thead>\n",
       "  <tbody>\n",
       "    <tr>\n",
       "      <th>0</th>\n",
       "      <td>35817</td>\n",
       "      <td>Barack Obama</td>\n",
       "      <td>0.000000</td>\n",
       "      <td>[[0.0]]</td>\n",
       "    </tr>\n",
       "    <tr>\n",
       "      <th>1</th>\n",
       "      <td>24478</td>\n",
       "      <td>Joe Biden</td>\n",
       "      <td>0.678781</td>\n",
       "      <td>[[0.6787810413312336]]</td>\n",
       "    </tr>\n",
       "    <tr>\n",
       "      <th>2</th>\n",
       "      <td>38376</td>\n",
       "      <td>Samantha Power</td>\n",
       "      <td>0.728871</td>\n",
       "      <td>[[0.7288705514270959]]</td>\n",
       "    </tr>\n",
       "    <tr>\n",
       "      <th>3</th>\n",
       "      <td>57108</td>\n",
       "      <td>Hillary Rodham Clinton</td>\n",
       "      <td>0.743761</td>\n",
       "      <td>[[0.743760600963479]]</td>\n",
       "    </tr>\n",
       "    <tr>\n",
       "      <th>4</th>\n",
       "      <td>38714</td>\n",
       "      <td>Eric Stern (politician)</td>\n",
       "      <td>0.747264</td>\n",
       "      <td>[[0.7472641367735133]]</td>\n",
       "    </tr>\n",
       "    <tr>\n",
       "      <th>5</th>\n",
       "      <td>46140</td>\n",
       "      <td>Robert Gibbs</td>\n",
       "      <td>0.764069</td>\n",
       "      <td>[[0.7640685263313408]]</td>\n",
       "    </tr>\n",
       "    <tr>\n",
       "      <th>6</th>\n",
       "      <td>18827</td>\n",
       "      <td>Henry Waxman</td>\n",
       "      <td>0.772595</td>\n",
       "      <td>[[0.7725948408589108]]</td>\n",
       "    </tr>\n",
       "    <tr>\n",
       "      <th>7</th>\n",
       "      <td>44681</td>\n",
       "      <td>Jesse Lee (politician)</td>\n",
       "      <td>0.774599</td>\n",
       "      <td>[[0.7745985570739599]]</td>\n",
       "    </tr>\n",
       "    <tr>\n",
       "      <th>8</th>\n",
       "      <td>6796</td>\n",
       "      <td>Eric Holder</td>\n",
       "      <td>0.779121</td>\n",
       "      <td>[[0.7791208721788061]]</td>\n",
       "    </tr>\n",
       "    <tr>\n",
       "      <th>9</th>\n",
       "      <td>2412</td>\n",
       "      <td>Joe the Plumber</td>\n",
       "      <td>0.783260</td>\n",
       "      <td>[[0.7832599382080224]]</td>\n",
       "    </tr>\n",
       "    <tr>\n",
       "      <th>10</th>\n",
       "      <td>48693</td>\n",
       "      <td>Artur Davis</td>\n",
       "      <td>0.784545</td>\n",
       "      <td>[[0.7845450084448664]]</td>\n",
       "    </tr>\n",
       "    <tr>\n",
       "      <th>11</th>\n",
       "      <td>7914</td>\n",
       "      <td>Phil Schiliro</td>\n",
       "      <td>0.787177</td>\n",
       "      <td>[[0.787177205936613]]</td>\n",
       "    </tr>\n",
       "    <tr>\n",
       "      <th>12</th>\n",
       "      <td>46811</td>\n",
       "      <td>Jeff Sessions</td>\n",
       "      <td>0.790130</td>\n",
       "      <td>[[0.7901302784133721]]</td>\n",
       "    </tr>\n",
       "    <tr>\n",
       "      <th>13</th>\n",
       "      <td>28447</td>\n",
       "      <td>George W. Bush</td>\n",
       "      <td>0.799607</td>\n",
       "      <td>[[0.7996067407997853]]</td>\n",
       "    </tr>\n",
       "    <tr>\n",
       "      <th>14</th>\n",
       "      <td>39357</td>\n",
       "      <td>John McCain</td>\n",
       "      <td>0.800857</td>\n",
       "      <td>[[0.8008566864505022]]</td>\n",
       "    </tr>\n",
       "    <tr>\n",
       "      <th>15</th>\n",
       "      <td>4032</td>\n",
       "      <td>Kenneth D. Thompson</td>\n",
       "      <td>0.801722</td>\n",
       "      <td>[[0.8017223339274582]]</td>\n",
       "    </tr>\n",
       "    <tr>\n",
       "      <th>16</th>\n",
       "      <td>23737</td>\n",
       "      <td>John D. McCormick</td>\n",
       "      <td>0.804529</td>\n",
       "      <td>[[0.8045287412604174]]</td>\n",
       "    </tr>\n",
       "    <tr>\n",
       "      <th>17</th>\n",
       "      <td>24848</td>\n",
       "      <td>John C. Eastman</td>\n",
       "      <td>0.808264</td>\n",
       "      <td>[[0.8082644722037876]]</td>\n",
       "    </tr>\n",
       "    <tr>\n",
       "      <th>18</th>\n",
       "      <td>11394</td>\n",
       "      <td>John G. Levi</td>\n",
       "      <td>0.810387</td>\n",
       "      <td>[[0.8103868172170995]]</td>\n",
       "    </tr>\n",
       "    <tr>\n",
       "      <th>19</th>\n",
       "      <td>36452</td>\n",
       "      <td>Bill Clinton</td>\n",
       "      <td>0.811033</td>\n",
       "      <td>[[0.8110328230075754]]</td>\n",
       "    </tr>\n",
       "  </tbody>\n",
       "</table>\n",
       "</div>"
      ],
      "text/plain": [
       "    Index                     Name  Cosine Similariry         Cosine Distance\n",
       "0   35817             Barack Obama           0.000000                 [[0.0]]\n",
       "1   24478                Joe Biden           0.678781  [[0.6787810413312336]]\n",
       "2   38376           Samantha Power           0.728871  [[0.7288705514270959]]\n",
       "3   57108   Hillary Rodham Clinton           0.743761   [[0.743760600963479]]\n",
       "4   38714  Eric Stern (politician)           0.747264  [[0.7472641367735133]]\n",
       "5   46140             Robert Gibbs           0.764069  [[0.7640685263313408]]\n",
       "6   18827             Henry Waxman           0.772595  [[0.7725948408589108]]\n",
       "7   44681   Jesse Lee (politician)           0.774599  [[0.7745985570739599]]\n",
       "8    6796              Eric Holder           0.779121  [[0.7791208721788061]]\n",
       "9    2412          Joe the Plumber           0.783260  [[0.7832599382080224]]\n",
       "10  48693              Artur Davis           0.784545  [[0.7845450084448664]]\n",
       "11   7914            Phil Schiliro           0.787177   [[0.787177205936613]]\n",
       "12  46811            Jeff Sessions           0.790130  [[0.7901302784133721]]\n",
       "13  28447           George W. Bush           0.799607  [[0.7996067407997853]]\n",
       "14  39357              John McCain           0.800857  [[0.8008566864505022]]\n",
       "15   4032      Kenneth D. Thompson           0.801722  [[0.8017223339274582]]\n",
       "16  23737        John D. McCormick           0.804529  [[0.8045287412604174]]\n",
       "17  24848          John C. Eastman           0.808264  [[0.8082644722037876]]\n",
       "18  11394             John G. Levi           0.810387  [[0.8103868172170995]]\n",
       "19  36452             Bill Clinton           0.811033  [[0.8110328230075754]]"
      ]
     },
     "execution_count": 47,
     "metadata": {},
     "output_type": "execute_result"
    }
   ],
   "source": [
    "knn_query('Barack Obama')"
   ]
  },
  {
   "cell_type": "code",
   "execution_count": 48,
   "metadata": {},
   "outputs": [
    {
     "data": {
      "text/html": [
       "<div>\n",
       "<style scoped>\n",
       "    .dataframe tbody tr th:only-of-type {\n",
       "        vertical-align: middle;\n",
       "    }\n",
       "\n",
       "    .dataframe tbody tr th {\n",
       "        vertical-align: top;\n",
       "    }\n",
       "\n",
       "    .dataframe thead th {\n",
       "        text-align: right;\n",
       "    }\n",
       "</style>\n",
       "<table border=\"1\" class=\"dataframe\">\n",
       "  <thead>\n",
       "    <tr style=\"text-align: right;\">\n",
       "      <th></th>\n",
       "      <th>Index</th>\n",
       "      <th>Name</th>\n",
       "      <th>Cosine Similariry</th>\n",
       "      <th>Cosine Distance</th>\n",
       "    </tr>\n",
       "  </thead>\n",
       "  <tbody>\n",
       "    <tr>\n",
       "      <th>0</th>\n",
       "      <td>54264</td>\n",
       "      <td>Taylor Swift</td>\n",
       "      <td>0.000000</td>\n",
       "      <td>[[0.0]]</td>\n",
       "    </tr>\n",
       "    <tr>\n",
       "      <th>1</th>\n",
       "      <td>317</td>\n",
       "      <td>Carrie Underwood</td>\n",
       "      <td>0.699749</td>\n",
       "      <td>[[0.6997489648714519]]</td>\n",
       "    </tr>\n",
       "    <tr>\n",
       "      <th>2</th>\n",
       "      <td>9379</td>\n",
       "      <td>Al Swift</td>\n",
       "      <td>0.705380</td>\n",
       "      <td>[[0.7053803353918273]]</td>\n",
       "    </tr>\n",
       "    <tr>\n",
       "      <th>3</th>\n",
       "      <td>25403</td>\n",
       "      <td>Ed Sheeran</td>\n",
       "      <td>0.712744</td>\n",
       "      <td>[[0.7127442732690743]]</td>\n",
       "    </tr>\n",
       "    <tr>\n",
       "      <th>4</th>\n",
       "      <td>19943</td>\n",
       "      <td>Tim McGraw</td>\n",
       "      <td>0.716746</td>\n",
       "      <td>[[0.7167455781247595]]</td>\n",
       "    </tr>\n",
       "    <tr>\n",
       "      <th>5</th>\n",
       "      <td>29297</td>\n",
       "      <td>Kelly Clarkson</td>\n",
       "      <td>0.719027</td>\n",
       "      <td>[[0.7190271148022463]]</td>\n",
       "    </tr>\n",
       "    <tr>\n",
       "      <th>6</th>\n",
       "      <td>27793</td>\n",
       "      <td>Adele</td>\n",
       "      <td>0.719748</td>\n",
       "      <td>[[0.7197480804862004]]</td>\n",
       "    </tr>\n",
       "    <tr>\n",
       "      <th>7</th>\n",
       "      <td>52794</td>\n",
       "      <td>Bill Swift</td>\n",
       "      <td>0.725970</td>\n",
       "      <td>[[0.7259703628160138]]</td>\n",
       "    </tr>\n",
       "    <tr>\n",
       "      <th>8</th>\n",
       "      <td>1341</td>\n",
       "      <td>Dolly Parton</td>\n",
       "      <td>0.728522</td>\n",
       "      <td>[[0.728521988236071]]</td>\n",
       "    </tr>\n",
       "    <tr>\n",
       "      <th>9</th>\n",
       "      <td>35807</td>\n",
       "      <td>Joss Stone</td>\n",
       "      <td>0.729800</td>\n",
       "      <td>[[0.7297995535147463]]</td>\n",
       "    </tr>\n",
       "    <tr>\n",
       "      <th>10</th>\n",
       "      <td>45294</td>\n",
       "      <td>Miranda Lambert</td>\n",
       "      <td>0.733229</td>\n",
       "      <td>[[0.7332285961225862]]</td>\n",
       "    </tr>\n",
       "    <tr>\n",
       "      <th>11</th>\n",
       "      <td>17552</td>\n",
       "      <td>Ricky Martin</td>\n",
       "      <td>0.738880</td>\n",
       "      <td>[[0.7388802004572304]]</td>\n",
       "    </tr>\n",
       "    <tr>\n",
       "      <th>12</th>\n",
       "      <td>508</td>\n",
       "      <td>Faith Hill</td>\n",
       "      <td>0.743195</td>\n",
       "      <td>[[0.7431954511478405]]</td>\n",
       "    </tr>\n",
       "    <tr>\n",
       "      <th>13</th>\n",
       "      <td>55438</td>\n",
       "      <td>Alicia Keys</td>\n",
       "      <td>0.743759</td>\n",
       "      <td>[[0.7437592267626236]]</td>\n",
       "    </tr>\n",
       "    <tr>\n",
       "      <th>14</th>\n",
       "      <td>39541</td>\n",
       "      <td>Andrea Bocelli</td>\n",
       "      <td>0.744290</td>\n",
       "      <td>[[0.7442895380887868]]</td>\n",
       "    </tr>\n",
       "    <tr>\n",
       "      <th>15</th>\n",
       "      <td>1626</td>\n",
       "      <td>JoJo (singer)</td>\n",
       "      <td>0.748381</td>\n",
       "      <td>[[0.7483812193259294]]</td>\n",
       "    </tr>\n",
       "    <tr>\n",
       "      <th>16</th>\n",
       "      <td>11639</td>\n",
       "      <td>Pink (singer)</td>\n",
       "      <td>0.748855</td>\n",
       "      <td>[[0.7488548863459428]]</td>\n",
       "    </tr>\n",
       "    <tr>\n",
       "      <th>17</th>\n",
       "      <td>9552</td>\n",
       "      <td>George Strait</td>\n",
       "      <td>0.751808</td>\n",
       "      <td>[[0.7518079030830562]]</td>\n",
       "    </tr>\n",
       "    <tr>\n",
       "      <th>18</th>\n",
       "      <td>52888</td>\n",
       "      <td>Keith Urban</td>\n",
       "      <td>0.751877</td>\n",
       "      <td>[[0.7518767500509655]]</td>\n",
       "    </tr>\n",
       "    <tr>\n",
       "      <th>19</th>\n",
       "      <td>6215</td>\n",
       "      <td>Amy Grant</td>\n",
       "      <td>0.755915</td>\n",
       "      <td>[[0.7559145912104746]]</td>\n",
       "    </tr>\n",
       "  </tbody>\n",
       "</table>\n",
       "</div>"
      ],
      "text/plain": [
       "    Index              Name  Cosine Similariry         Cosine Distance\n",
       "0   54264      Taylor Swift           0.000000                 [[0.0]]\n",
       "1     317  Carrie Underwood           0.699749  [[0.6997489648714519]]\n",
       "2    9379          Al Swift           0.705380  [[0.7053803353918273]]\n",
       "3   25403        Ed Sheeran           0.712744  [[0.7127442732690743]]\n",
       "4   19943        Tim McGraw           0.716746  [[0.7167455781247595]]\n",
       "5   29297    Kelly Clarkson           0.719027  [[0.7190271148022463]]\n",
       "6   27793             Adele           0.719748  [[0.7197480804862004]]\n",
       "7   52794        Bill Swift           0.725970  [[0.7259703628160138]]\n",
       "8    1341      Dolly Parton           0.728522   [[0.728521988236071]]\n",
       "9   35807        Joss Stone           0.729800  [[0.7297995535147463]]\n",
       "10  45294   Miranda Lambert           0.733229  [[0.7332285961225862]]\n",
       "11  17552      Ricky Martin           0.738880  [[0.7388802004572304]]\n",
       "12    508        Faith Hill           0.743195  [[0.7431954511478405]]\n",
       "13  55438       Alicia Keys           0.743759  [[0.7437592267626236]]\n",
       "14  39541    Andrea Bocelli           0.744290  [[0.7442895380887868]]\n",
       "15   1626     JoJo (singer)           0.748381  [[0.7483812193259294]]\n",
       "16  11639     Pink (singer)           0.748855  [[0.7488548863459428]]\n",
       "17   9552     George Strait           0.751808  [[0.7518079030830562]]\n",
       "18  52888       Keith Urban           0.751877  [[0.7518767500509655]]\n",
       "19   6215         Amy Grant           0.755915  [[0.7559145912104746]]"
      ]
     },
     "execution_count": 48,
     "metadata": {},
     "output_type": "execute_result"
    }
   ],
   "source": [
    "knn_query('Taylor Swift')"
   ]
  },
  {
   "cell_type": "markdown",
   "metadata": {},
   "source": [
    "**We can find that the knn method really makes sense. Also, the speed of the whole procedure is fast enough, which can provide a satisfied result.**"
   ]
  },
  {
   "cell_type": "markdown",
   "metadata": {},
   "source": [
    "# K-means clustering¶"
   ]
  },
  {
   "cell_type": "markdown",
   "metadata": {},
   "source": [
    "k-means clustering is a method of vector quantization, originally from signal processing, that is popular for cluster analysis in data mining. k-means clustering aims to partition n observations into k clusters in which each observation belongs to the cluster with the nearest mean, serving as a prototype of the cluster. This results in a partitioning of the data space into Voronoi cells. "
   ]
  },
  {
   "cell_type": "markdown",
   "metadata": {},
   "source": [
    "## 3 Clusters"
   ]
  },
  {
   "cell_type": "code",
   "execution_count": 49,
   "metadata": {},
   "outputs": [
    {
     "ename": "NameError",
     "evalue": "name 'words' is not defined",
     "output_type": "error",
     "traceback": [
      "\u001b[0;31m---------------------------------------------------------------------------\u001b[0m",
      "\u001b[0;31mNameError\u001b[0m                                 Traceback (most recent call last)",
      "\u001b[0;32m<ipython-input-49-5ffccea560f8>\u001b[0m in \u001b[0;36m<module>\u001b[0;34m()\u001b[0m\n\u001b[1;32m      5\u001b[0m \u001b[0mcommon_words\u001b[0m \u001b[0;34m=\u001b[0m \u001b[0mkmeans\u001b[0m\u001b[0;34m.\u001b[0m\u001b[0mcluster_centers_\u001b[0m\u001b[0;34m.\u001b[0m\u001b[0margsort\u001b[0m\u001b[0;34m(\u001b[0m\u001b[0;34m)\u001b[0m\u001b[0;34m[\u001b[0m\u001b[0;34m:\u001b[0m\u001b[0;34m,\u001b[0m\u001b[0;34m-\u001b[0m\u001b[0;36m1\u001b[0m\u001b[0;34m:\u001b[0m\u001b[0;34m-\u001b[0m\u001b[0;36m26\u001b[0m\u001b[0;34m:\u001b[0m\u001b[0;34m-\u001b[0m\u001b[0;36m1\u001b[0m\u001b[0;34m]\u001b[0m\u001b[0;34m\u001b[0m\u001b[0m\n\u001b[1;32m      6\u001b[0m \u001b[0;32mfor\u001b[0m \u001b[0mnum\u001b[0m\u001b[0;34m,\u001b[0m \u001b[0mcentroid\u001b[0m \u001b[0;32min\u001b[0m \u001b[0menumerate\u001b[0m\u001b[0;34m(\u001b[0m\u001b[0mcommon_words\u001b[0m\u001b[0;34m)\u001b[0m\u001b[0;34m:\u001b[0m\u001b[0;34m\u001b[0m\u001b[0m\n\u001b[0;32m----> 7\u001b[0;31m     \u001b[0mprint\u001b[0m\u001b[0;34m(\u001b[0m\u001b[0mstr\u001b[0m\u001b[0;34m(\u001b[0m\u001b[0mnum\u001b[0m\u001b[0;34m)\u001b[0m \u001b[0;34m+\u001b[0m \u001b[0;34m' : '\u001b[0m \u001b[0;34m+\u001b[0m \u001b[0;34m', '\u001b[0m\u001b[0;34m.\u001b[0m\u001b[0mjoin\u001b[0m\u001b[0;34m(\u001b[0m\u001b[0mwords\u001b[0m\u001b[0;34m[\u001b[0m\u001b[0mword\u001b[0m\u001b[0;34m]\u001b[0m \u001b[0;32mfor\u001b[0m \u001b[0mword\u001b[0m \u001b[0;32min\u001b[0m \u001b[0mcentroid\u001b[0m\u001b[0;34m)\u001b[0m\u001b[0;34m)\u001b[0m\u001b[0;34m\u001b[0m\u001b[0m\n\u001b[0m",
      "\u001b[0;32m<ipython-input-49-5ffccea560f8>\u001b[0m in \u001b[0;36m<genexpr>\u001b[0;34m(.0)\u001b[0m\n\u001b[1;32m      5\u001b[0m \u001b[0mcommon_words\u001b[0m \u001b[0;34m=\u001b[0m \u001b[0mkmeans\u001b[0m\u001b[0;34m.\u001b[0m\u001b[0mcluster_centers_\u001b[0m\u001b[0;34m.\u001b[0m\u001b[0margsort\u001b[0m\u001b[0;34m(\u001b[0m\u001b[0;34m)\u001b[0m\u001b[0;34m[\u001b[0m\u001b[0;34m:\u001b[0m\u001b[0;34m,\u001b[0m\u001b[0;34m-\u001b[0m\u001b[0;36m1\u001b[0m\u001b[0;34m:\u001b[0m\u001b[0;34m-\u001b[0m\u001b[0;36m26\u001b[0m\u001b[0;34m:\u001b[0m\u001b[0;34m-\u001b[0m\u001b[0;36m1\u001b[0m\u001b[0;34m]\u001b[0m\u001b[0;34m\u001b[0m\u001b[0m\n\u001b[1;32m      6\u001b[0m \u001b[0;32mfor\u001b[0m \u001b[0mnum\u001b[0m\u001b[0;34m,\u001b[0m \u001b[0mcentroid\u001b[0m \u001b[0;32min\u001b[0m \u001b[0menumerate\u001b[0m\u001b[0;34m(\u001b[0m\u001b[0mcommon_words\u001b[0m\u001b[0;34m)\u001b[0m\u001b[0;34m:\u001b[0m\u001b[0;34m\u001b[0m\u001b[0m\n\u001b[0;32m----> 7\u001b[0;31m     \u001b[0mprint\u001b[0m\u001b[0;34m(\u001b[0m\u001b[0mstr\u001b[0m\u001b[0;34m(\u001b[0m\u001b[0mnum\u001b[0m\u001b[0;34m)\u001b[0m \u001b[0;34m+\u001b[0m \u001b[0;34m' : '\u001b[0m \u001b[0;34m+\u001b[0m \u001b[0;34m', '\u001b[0m\u001b[0;34m.\u001b[0m\u001b[0mjoin\u001b[0m\u001b[0;34m(\u001b[0m\u001b[0mwords\u001b[0m\u001b[0;34m[\u001b[0m\u001b[0mword\u001b[0m\u001b[0;34m]\u001b[0m \u001b[0;32mfor\u001b[0m \u001b[0mword\u001b[0m \u001b[0;32min\u001b[0m \u001b[0mcentroid\u001b[0m\u001b[0;34m)\u001b[0m\u001b[0;34m)\u001b[0m\u001b[0;34m\u001b[0m\u001b[0m\n\u001b[0m",
      "\u001b[0;31mNameError\u001b[0m: name 'words' is not defined"
     ]
    }
   ],
   "source": [
    "from sklearn.cluster import KMeans\n",
    "kmeans = KMeans(n_clusters = 3, n_jobs = -1, random_state=0, max_iter = 300) # n_init(number of iterations for clsutering) n_jobs(number of cpu cores to use)\n",
    "kmeans.fit(features)\n",
    "# We look at 3 the clusters generated by k-means."
   ]
  },
  {
   "cell_type": "code",
   "execution_count": 50,
   "metadata": {},
   "outputs": [
    {
     "name": "stdout",
     "output_type": "stream",
     "text": [
      "[[7.33380557e-06 4.77624717e-05 0.00000000e+00 ... 0.00000000e+00\n",
      "  0.00000000e+00 0.00000000e+00]\n",
      " [1.64327497e-05 8.04837970e-05 0.00000000e+00 ... 3.79478894e-06\n",
      "  1.12829439e-05 4.02234260e-06]\n",
      " [3.64210628e-04 1.51675919e-04 1.07065225e-05 ... 0.00000000e+00\n",
      "  0.00000000e+00 0.00000000e+00]]\n"
     ]
    }
   ],
   "source": [
    "print(kmeans.cluster_centers_)"
   ]
  },
  {
   "cell_type": "code",
   "execution_count": 51,
   "metadata": {},
   "outputs": [
    {
     "data": {
      "text/plain": [
       "array([2, 0, 1, ..., 2, 2, 0], dtype=int32)"
      ]
     },
     "execution_count": 51,
     "metadata": {},
     "output_type": "execute_result"
    }
   ],
   "source": [
    "kmeans.labels_"
   ]
  },
  {
   "cell_type": "markdown",
   "metadata": {},
   "source": [
    "## Elbow method to select number of clusters¶"
   ]
  },
  {
   "cell_type": "markdown",
   "metadata": {},
   "source": [
    "This method looks at the percentage of variance explained as a function of the number of clusters: One should choose a number of clusters so that adding another cluster doesn't give much better modeling of the data. More precisely, if one plots the percentage of variance explained by the clusters against the number of clusters, the first clusters will add much information (explain a lot of variance), but at some point the marginal gain will drop, giving an angle in the graph. The number of clusters is chosen at this point, hence the \"elbow criterion\". This \"elbow\" cannot always be unambiguously identified. Percentage of variance explained is the ratio of the between-group variance to the total variance, also known as an F-test. A slight variation of this method plots the curvature of the within group variance."
   ]
  },
  {
   "cell_type": "code",
   "execution_count": 59,
   "metadata": {},
   "outputs": [
    {
     "ename": "KeyboardInterrupt",
     "evalue": "",
     "output_type": "error",
     "traceback": [
      "\u001b[0;31m---------------------------------------------------------------------------\u001b[0m",
      "\u001b[0;31mKeyboardInterrupt\u001b[0m                         Traceback (most recent call last)",
      "\u001b[0;32m<ipython-input-59-6b81c6536e61>\u001b[0m in \u001b[0;36m<module>\u001b[0;34m()\u001b[0m\n\u001b[1;32m      3\u001b[0m \u001b[0;32mfor\u001b[0m \u001b[0mi\u001b[0m \u001b[0;32min\u001b[0m \u001b[0mrange\u001b[0m\u001b[0;34m(\u001b[0m\u001b[0;36m1\u001b[0m\u001b[0;34m,\u001b[0m\u001b[0;36m11\u001b[0m\u001b[0;34m)\u001b[0m\u001b[0;34m:\u001b[0m\u001b[0;34m\u001b[0m\u001b[0m\n\u001b[1;32m      4\u001b[0m     \u001b[0mkmeans\u001b[0m \u001b[0;34m=\u001b[0m \u001b[0mKMeans\u001b[0m\u001b[0;34m(\u001b[0m\u001b[0mn_clusters\u001b[0m\u001b[0;34m=\u001b[0m\u001b[0mi\u001b[0m\u001b[0;34m,\u001b[0m\u001b[0minit\u001b[0m\u001b[0;34m=\u001b[0m\u001b[0;34m'k-means++'\u001b[0m\u001b[0;34m,\u001b[0m\u001b[0mmax_iter\u001b[0m\u001b[0;34m=\u001b[0m\u001b[0;36m300\u001b[0m\u001b[0;34m,\u001b[0m\u001b[0mn_init\u001b[0m\u001b[0;34m=\u001b[0m\u001b[0;36m10\u001b[0m\u001b[0;34m,\u001b[0m\u001b[0mrandom_state\u001b[0m\u001b[0;34m=\u001b[0m\u001b[0;36m0\u001b[0m\u001b[0;34m)\u001b[0m\u001b[0;34m\u001b[0m\u001b[0m\n\u001b[0;32m----> 5\u001b[0;31m     \u001b[0mkmeans\u001b[0m\u001b[0;34m.\u001b[0m\u001b[0mfit\u001b[0m\u001b[0;34m(\u001b[0m\u001b[0mfeatures\u001b[0m\u001b[0;34m)\u001b[0m\u001b[0;34m\u001b[0m\u001b[0m\n\u001b[0m\u001b[1;32m      6\u001b[0m     \u001b[0mwcss\u001b[0m\u001b[0;34m.\u001b[0m\u001b[0mappend\u001b[0m\u001b[0;34m(\u001b[0m\u001b[0mkmeans\u001b[0m\u001b[0;34m.\u001b[0m\u001b[0minertia_\u001b[0m\u001b[0;34m)\u001b[0m\u001b[0;34m\u001b[0m\u001b[0m\n\u001b[1;32m      7\u001b[0m \u001b[0mplt\u001b[0m\u001b[0;34m.\u001b[0m\u001b[0mplot\u001b[0m\u001b[0;34m(\u001b[0m\u001b[0mrange\u001b[0m\u001b[0;34m(\u001b[0m\u001b[0;36m1\u001b[0m\u001b[0;34m,\u001b[0m\u001b[0;36m11\u001b[0m\u001b[0;34m)\u001b[0m\u001b[0;34m,\u001b[0m\u001b[0mwcss\u001b[0m\u001b[0;34m)\u001b[0m\u001b[0;34m\u001b[0m\u001b[0m\n",
      "\u001b[0;32m~/anaconda3/lib/python3.7/site-packages/sklearn/cluster/k_means_.py\u001b[0m in \u001b[0;36mfit\u001b[0;34m(self, X, y)\u001b[0m\n\u001b[1;32m    894\u001b[0m                 \u001b[0mtol\u001b[0m\u001b[0;34m=\u001b[0m\u001b[0mself\u001b[0m\u001b[0;34m.\u001b[0m\u001b[0mtol\u001b[0m\u001b[0;34m,\u001b[0m \u001b[0mrandom_state\u001b[0m\u001b[0;34m=\u001b[0m\u001b[0mrandom_state\u001b[0m\u001b[0;34m,\u001b[0m \u001b[0mcopy_x\u001b[0m\u001b[0;34m=\u001b[0m\u001b[0mself\u001b[0m\u001b[0;34m.\u001b[0m\u001b[0mcopy_x\u001b[0m\u001b[0;34m,\u001b[0m\u001b[0;34m\u001b[0m\u001b[0m\n\u001b[1;32m    895\u001b[0m                 \u001b[0mn_jobs\u001b[0m\u001b[0;34m=\u001b[0m\u001b[0mself\u001b[0m\u001b[0;34m.\u001b[0m\u001b[0mn_jobs\u001b[0m\u001b[0;34m,\u001b[0m \u001b[0malgorithm\u001b[0m\u001b[0;34m=\u001b[0m\u001b[0mself\u001b[0m\u001b[0;34m.\u001b[0m\u001b[0malgorithm\u001b[0m\u001b[0;34m,\u001b[0m\u001b[0;34m\u001b[0m\u001b[0m\n\u001b[0;32m--> 896\u001b[0;31m                 return_n_iter=True)\n\u001b[0m\u001b[1;32m    897\u001b[0m         \u001b[0;32mreturn\u001b[0m \u001b[0mself\u001b[0m\u001b[0;34m\u001b[0m\u001b[0m\n\u001b[1;32m    898\u001b[0m \u001b[0;34m\u001b[0m\u001b[0m\n",
      "\u001b[0;32m~/anaconda3/lib/python3.7/site-packages/sklearn/cluster/k_means_.py\u001b[0m in \u001b[0;36mk_means\u001b[0;34m(X, n_clusters, init, precompute_distances, n_init, max_iter, verbose, tol, random_state, copy_x, n_jobs, algorithm, return_n_iter)\u001b[0m\n\u001b[1;32m    344\u001b[0m                 \u001b[0mX\u001b[0m\u001b[0;34m,\u001b[0m \u001b[0mn_clusters\u001b[0m\u001b[0;34m,\u001b[0m \u001b[0mmax_iter\u001b[0m\u001b[0;34m=\u001b[0m\u001b[0mmax_iter\u001b[0m\u001b[0;34m,\u001b[0m \u001b[0minit\u001b[0m\u001b[0;34m=\u001b[0m\u001b[0minit\u001b[0m\u001b[0;34m,\u001b[0m \u001b[0mverbose\u001b[0m\u001b[0;34m=\u001b[0m\u001b[0mverbose\u001b[0m\u001b[0;34m,\u001b[0m\u001b[0;34m\u001b[0m\u001b[0m\n\u001b[1;32m    345\u001b[0m                 \u001b[0mprecompute_distances\u001b[0m\u001b[0;34m=\u001b[0m\u001b[0mprecompute_distances\u001b[0m\u001b[0;34m,\u001b[0m \u001b[0mtol\u001b[0m\u001b[0;34m=\u001b[0m\u001b[0mtol\u001b[0m\u001b[0;34m,\u001b[0m\u001b[0;34m\u001b[0m\u001b[0m\n\u001b[0;32m--> 346\u001b[0;31m                 x_squared_norms=x_squared_norms, random_state=random_state)\n\u001b[0m\u001b[1;32m    347\u001b[0m             \u001b[0;31m# determine if these results are the best so far\u001b[0m\u001b[0;34m\u001b[0m\u001b[0;34m\u001b[0m\u001b[0m\n\u001b[1;32m    348\u001b[0m             \u001b[0;32mif\u001b[0m \u001b[0mbest_inertia\u001b[0m \u001b[0;32mis\u001b[0m \u001b[0;32mNone\u001b[0m \u001b[0;32mor\u001b[0m \u001b[0minertia\u001b[0m \u001b[0;34m<\u001b[0m \u001b[0mbest_inertia\u001b[0m\u001b[0;34m:\u001b[0m\u001b[0;34m\u001b[0m\u001b[0m\n",
      "\u001b[0;32m~/anaconda3/lib/python3.7/site-packages/sklearn/cluster/k_means_.py\u001b[0m in \u001b[0;36m_kmeans_single_lloyd\u001b[0;34m(X, n_clusters, max_iter, init, verbose, x_squared_norms, random_state, tol, precompute_distances)\u001b[0m\n\u001b[1;32m    496\u001b[0m         \u001b[0;32mif\u001b[0m \u001b[0msp\u001b[0m\u001b[0;34m.\u001b[0m\u001b[0missparse\u001b[0m\u001b[0;34m(\u001b[0m\u001b[0mX\u001b[0m\u001b[0;34m)\u001b[0m\u001b[0;34m:\u001b[0m\u001b[0;34m\u001b[0m\u001b[0m\n\u001b[1;32m    497\u001b[0m             centers = _k_means._centers_sparse(X, labels, n_clusters,\n\u001b[0;32m--> 498\u001b[0;31m                                                distances)\n\u001b[0m\u001b[1;32m    499\u001b[0m         \u001b[0;32melse\u001b[0m\u001b[0;34m:\u001b[0m\u001b[0;34m\u001b[0m\u001b[0m\n\u001b[1;32m    500\u001b[0m             \u001b[0mcenters\u001b[0m \u001b[0;34m=\u001b[0m \u001b[0m_k_means\u001b[0m\u001b[0;34m.\u001b[0m\u001b[0m_centers_dense\u001b[0m\u001b[0;34m(\u001b[0m\u001b[0mX\u001b[0m\u001b[0;34m,\u001b[0m \u001b[0mlabels\u001b[0m\u001b[0;34m,\u001b[0m \u001b[0mn_clusters\u001b[0m\u001b[0;34m,\u001b[0m \u001b[0mdistances\u001b[0m\u001b[0;34m)\u001b[0m\u001b[0;34m\u001b[0m\u001b[0m\n",
      "\u001b[0;31mKeyboardInterrupt\u001b[0m: "
     ]
    }
   ],
   "source": [
    "from sklearn.cluster import KMeans\n",
    "wcss = []\n",
    "for i in range(1,11):\n",
    "    kmeans = KMeans(n_clusters=i,init='k-means++',max_iter=300,n_init=10,random_state=0)\n",
    "    kmeans.fit(features)\n",
    "    wcss.append(kmeans.inertia_)\n",
    "plt.plot(range(1,11),wcss)\n",
    "plt.title('The Elbow Method')\n",
    "plt.xlabel('Number of clusters')\n",
    "plt.ylabel('WCSS')\n",
    "plt.savefig('elbow.png')\n",
    "plt.show()"
   ]
  },
  {
   "cell_type": "code",
   "execution_count": null,
   "metadata": {},
   "outputs": [],
   "source": []
  }
 ],
 "metadata": {
  "anaconda-cloud": {},
  "kernelspec": {
   "display_name": "Python 3",
   "language": "python",
   "name": "python3"
  },
  "language_info": {
   "codemirror_mode": {
    "name": "ipython",
    "version": 3
   },
   "file_extension": ".py",
   "mimetype": "text/x-python",
   "name": "python",
   "nbconvert_exporter": "python",
   "pygments_lexer": "ipython3",
   "version": "3.7.0"
  }
 },
 "nbformat": 4,
 "nbformat_minor": 1
}
